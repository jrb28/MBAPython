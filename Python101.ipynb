{
 "cells": [
  {
   "cell_type": "markdown",
   "metadata": {},
   "source": [
    "# Jupyter Basics\n",
    "\n",
    "Jupyter is a _development environment_, as in development of computer programs.  Think of a development environment as a program in which you write your (Python) programs.\n",
    "\n",
    "Code is typed into multiple \"cells,\" which are the gay rectangles with the \"In[]\" prompt to the left.  Code can be executed individually, cell-by-cell.  To execute the code in a cell, select the cell and click simultaneously on Shift+ Enter.\n",
    "\n",
    "Jupyter also allows headings, text, bullet points, the embedding of images, the embedding of Internet links, LaTex scientific typesetting, and other useful visual displays.  The technique is called markdown, but we will not have time in this session to cover this topic.  However, here are some references you can check out:\n",
    "\n",
    "- [Markdown Link 1](https://beegit.com/markdown-cheat-sheet)\n",
    "- [Markdown Link 2](https://medium.com/ibm-data-science-experience/markdown-for-jupyter-notebooks-cheatsheet-386c05aeebed)\n",
    "- [Markdown Link 3](https://datascience.ibm.com/docs/content/analyze-data/markd-jupyter.html)\n",
    "- [Markdown Link 4](http://jupyter-notebook.readthedocs.io/en/stable/examples/Notebook/Working%20With%20Markdown%20Cells.html)\n",
    "- [Markdown Link 5](https://github.com/adam-p/markdown-here/wiki/Markdown-Cheatsheet)\n",
    "- [Markdown Link 6](http://nestacms.com/docs/creating-content/markdown-cheat-sheet)"
   ]
  },
  {
   "cell_type": "markdown",
   "metadata": {},
   "source": [
    "# Assignment Statements\n",
    "\n",
    "- It is best to discuss assignment statements before we talk about variables.  \n",
    "- Assignment statements have  an equals sign, '=', in them.\n",
    "- The right-hand side is computed and assigned to the variable(s) on the left-hand side\n",
    "- Variables store data values\n",
    "    - Variable names start with letters, and can have numbers, underscores, upler adn lowercase characters\n",
    "    - VARIABLE NAMES AND PYTHON COMMANDS ARE CASE SENSITIVE!!!!!!!"
   ]
  },
  {
   "cell_type": "code",
   "execution_count": null,
   "metadata": {},
   "outputs": [],
   "source": [
    "m = 'Hello world!'\n",
    "print(m)"
   ]
  },
  {
   "cell_type": "code",
   "execution_count": null,
   "metadata": {},
   "outputs": [],
   "source": [
    "print(M)"
   ]
  },
  {
   "cell_type": "code",
   "execution_count": null,
   "metadata": {},
   "outputs": [],
   "source": [
    "Print(m)"
   ]
  },
  {
   "cell_type": "markdown",
   "metadata": {},
   "source": [
    "Your turn!  Assign a string to a variable and print the value of the variable."
   ]
  },
  {
   "cell_type": "code",
   "execution_count": null,
   "metadata": {
    "collapsed": true
   },
   "outputs": [],
   "source": []
  },
  {
   "cell_type": "markdown",
   "metadata": {},
   "source": [
    "# Data Types\n",
    "\n",
    "- Python variables are not declared explicitly\n",
    "- Variables are of the type of the data that are assigned to them"
   ]
  },
  {
   "cell_type": "markdown",
   "metadata": {},
   "source": [
    "## Integers\n",
    "\n",
    "- Integers appear without decimal points\n",
    "- Assign an integer to a variable:\n",
    "    - Use an equals sign\n",
    "- Retrieve the value of a variable:\n",
    "    - Use the variable name"
   ]
  },
  {
   "cell_type": "code",
   "execution_count": null,
   "metadata": {},
   "outputs": [],
   "source": [
    "age = 27\n",
    "print(type(age))\n",
    "print(age)"
   ]
  },
  {
   "cell_type": "code",
   "execution_count": null,
   "metadata": {},
   "outputs": [],
   "source": [
    "newAge = age + 3\n",
    "print(newAge)"
   ]
  },
  {
   "cell_type": "code",
   "execution_count": null,
   "metadata": {},
   "outputs": [],
   "source": [
    "print(newage)"
   ]
  },
  {
   "cell_type": "markdown",
   "metadata": {},
   "source": [
    "## Floating Point Numbers\n",
    "\n",
    "- Floating point numbers appear with decimal points.\n",
    "- Assign an integer to a variable:\n",
    "    - Use an equals sign\n",
    "- Retrieve the value of a variable:\n",
    "    - Use the variable name"
   ]
  },
  {
   "cell_type": "code",
   "execution_count": null,
   "metadata": {},
   "outputs": [],
   "source": [
    "temperature = 75.2\n",
    "print(temperature)\n",
    "temperature = 75.\n",
    "print(temperature)"
   ]
  },
  {
   "cell_type": "code",
   "execution_count": null,
   "metadata": {},
   "outputs": [],
   "source": [
    "temperature = 75\n",
    "temperature = temperature + 2\n",
    "print(temperature)"
   ]
  },
  {
   "cell_type": "markdown",
   "metadata": {},
   "source": [
    "Note the shorthand notation below for adding a value to a variable."
   ]
  },
  {
   "cell_type": "code",
   "execution_count": null,
   "metadata": {},
   "outputs": [],
   "source": [
    "temperature += 2.0\n",
    "print(temperature)"
   ]
  },
  {
   "cell_type": "markdown",
   "metadata": {},
   "source": [
    "## Your Turn!\n",
    "\n",
    "- Create two variables\n",
    "- Assign values to the variables\n",
    "- Add the variables into a third variable\n",
    "- Print out the value of the third variable"
   ]
  },
  {
   "cell_type": "code",
   "execution_count": null,
   "metadata": {
    "collapsed": true
   },
   "outputs": [],
   "source": []
  },
  {
   "cell_type": "markdown",
   "metadata": {},
   "source": [
    "## Lists\n",
    "\n",
    "- Specified by square brackets\n",
    "- Can contain mixed types of data\n",
    "- Access entire list by typing variable name\n",
    "- Can access individual elements by index\n",
    "    - 0-based, integer indices\n",
    "- Mutable: elements can be changed and deleted"
   ]
  },
  {
   "cell_type": "code",
   "execution_count": null,
   "metadata": {},
   "outputs": [],
   "source": [
    "myList = [1,3,5,7]\n",
    "print(myList)"
   ]
  },
  {
   "cell_type": "code",
   "execution_count": null,
   "metadata": {},
   "outputs": [],
   "source": [
    "myList1 = [1.0, 3, 5.0, 7]\n",
    "print(myList1)"
   ]
  },
  {
   "cell_type": "markdown",
   "metadata": {},
   "source": [
    "In the Jupyter development environment a variable name simply listed as the last line of code in a cell will be printed out.  No print() statement is needed."
   ]
  },
  {
   "cell_type": "code",
   "execution_count": null,
   "metadata": {},
   "outputs": [],
   "source": [
    "myList1"
   ]
  },
  {
   "cell_type": "code",
   "execution_count": null,
   "metadata": {},
   "outputs": [],
   "source": [
    "print(myList1[0])\n",
    "print(myList1[1])\n",
    "print(myList1[2])\n",
    "print(myList1[3])"
   ]
  },
  {
   "cell_type": "code",
   "execution_count": null,
   "metadata": {},
   "outputs": [],
   "source": [
    "myList1[0] = 99\n",
    "myList1"
   ]
  },
  {
   "cell_type": "markdown",
   "metadata": {},
   "source": [
    "Lists are mutable: you can change and delete elements."
   ]
  },
  {
   "cell_type": "markdown",
   "metadata": {},
   "source": [
    "Multiple elements of a list can be extracted using \"slice\" operations.  List slices can be taken in many different modes, but the basic form is myList[_b_:_e_], where _b_ is the index of the first element you want to extract and _e_ implies that the index of the last element extracted is _e_-1. \n",
    "\n",
    "Remember: list indices are 0 based."
   ]
  },
  {
   "cell_type": "code",
   "execution_count": null,
   "metadata": {},
   "outputs": [],
   "source": [
    "myList1[1:3]"
   ]
  },
  {
   "cell_type": "code",
   "execution_count": null,
   "metadata": {
    "collapsed": true
   },
   "outputs": [],
   "source": [
    "myList2 = [1,3,5,7,9,11,13,15,17,19,21,23,25,27,29,31,33,35,37,39]"
   ]
  },
  {
   "cell_type": "markdown",
   "metadata": {},
   "source": [
    "Your turn!\n",
    "\n",
    "From the variable myList2, perform these extractions:\n",
    "- Extract the element whose index is 2\n",
    "- Extract the 3rd through the 9th elements"
   ]
  },
  {
   "cell_type": "code",
   "execution_count": null,
   "metadata": {
    "collapsed": true
   },
   "outputs": [],
   "source": []
  },
  {
   "cell_type": "code",
   "execution_count": null,
   "metadata": {
    "collapsed": true
   },
   "outputs": [],
   "source": []
  },
  {
   "cell_type": "markdown",
   "metadata": {},
   "source": [
    "## Range Data Type\n",
    "\n",
    "Ranges are similar to lists.  The range(_s_,_e_,_i_) statement creates a sequence of integers starting with _s_ and ending with an integer no greater than _e_-1, in increments of _i_.  \n",
    "\n",
    "- Only one argument is required, in which case it is interpreted as _e_ and _s_ is 0 be default.\n",
    "- If two arguments are supplied the first is interpreted as _b_ and the second _e_."
   ]
  },
  {
   "cell_type": "code",
   "execution_count": null,
   "metadata": {
    "collapsed": true
   },
   "outputs": [],
   "source": [
    "x = range(10)\n",
    "print(x)"
   ]
  },
  {
   "cell_type": "code",
   "execution_count": null,
   "metadata": {},
   "outputs": [],
   "source": [
    "type(x)"
   ]
  },
  {
   "cell_type": "code",
   "execution_count": null,
   "metadata": {},
   "outputs": [],
   "source": [
    "list(x)"
   ]
  },
  {
   "cell_type": "code",
   "execution_count": null,
   "metadata": {},
   "outputs": [],
   "source": [
    "z = range(3,10,3)\n",
    "list(z)"
   ]
  },
  {
   "cell_type": "code",
   "execution_count": null,
   "metadata": {},
   "outputs": [],
   "source": [
    "w = range(0,100)\n",
    "print(list(w))\n",
    "print(list(w[41:57]))"
   ]
  },
  {
   "cell_type": "markdown",
   "metadata": {
    "collapsed": true
   },
   "source": [
    "Your turn! Create a list of even integers starting with 2 and ending with 12.  Convert the range to a list and print it out."
   ]
  },
  {
   "cell_type": "code",
   "execution_count": null,
   "metadata": {
    "collapsed": true
   },
   "outputs": [],
   "source": []
  },
  {
   "cell_type": "markdown",
   "metadata": {},
   "source": [
    "## Tuples\n",
    "\n",
    "- Specified by parentheses\n",
    "- Not mutable: elements can neither be changed nor deleted\n",
    "- Accessed by index"
   ]
  },
  {
   "cell_type": "code",
   "execution_count": null,
   "metadata": {},
   "outputs": [],
   "source": [
    "t = (0,1,2,3,4)\n",
    "t[1:3]"
   ]
  },
  {
   "cell_type": "code",
   "execution_count": null,
   "metadata": {},
   "outputs": [],
   "source": [
    "t[1] = 99"
   ]
  },
  {
   "cell_type": "markdown",
   "metadata": {},
   "source": [
    "## Lists of Lists, Lists of Tuples, Tuples of Lists, Etc.\n",
    "\n",
    "We do not have time for the details of all that is possible in this realm, bu be aware that complex data structures of these types are possible."
   ]
  },
  {
   "cell_type": "code",
   "execution_count": null,
   "metadata": {},
   "outputs": [],
   "source": [
    "myList3 = [[0,1,2],[3,4,5],[6,7,8]]\n",
    "print(myList3[1])"
   ]
  },
  {
   "cell_type": "code",
   "execution_count": null,
   "metadata": {},
   "outputs": [],
   "source": [
    "print(myList3[1][2])"
   ]
  },
  {
   "cell_type": "code",
   "execution_count": null,
   "metadata": {
    "collapsed": true
   },
   "outputs": [],
   "source": [
    "v = [(0,1),(2,3),(4,5)]"
   ]
  },
  {
   "cell_type": "markdown",
   "metadata": {},
   "source": [
    "## Strings\n",
    "\n",
    "- Text\n",
    "- Specify with single or double quotes\n",
    "- Assign an integer to a variable:\n",
    "    - Use an equals sign\n",
    "- Retrieve the value of a variable:\n",
    "    - Use the variable name\n",
    "- Can index by character position\n",
    "    - 0-based indices\n",
    "- Concatenate (append) using the + sign"
   ]
  },
  {
   "cell_type": "code",
   "execution_count": null,
   "metadata": {},
   "outputs": [],
   "source": [
    "myName = 'Jim'\n",
    "yourName = \"Sam\"\n",
    "print(myName,yourName)"
   ]
  },
  {
   "cell_type": "code",
   "execution_count": null,
   "metadata": {},
   "outputs": [],
   "source": [
    "myName + ' & ' + yourName"
   ]
  },
  {
   "cell_type": "code",
   "execution_count": null,
   "metadata": {},
   "outputs": [],
   "source": [
    "names = myName + ' & ' + yourName\n",
    "print(names[0])\n",
    "print(names[1])\n",
    "print(names[2])\n",
    "print(names[3])\n",
    "print(names[4])\n",
    "print(names[5])\n",
    "print(names[6])\n",
    "print(names[7])\n",
    "print(names[8])"
   ]
  },
  {
   "cell_type": "code",
   "execution_count": null,
   "metadata": {},
   "outputs": [],
   "source": [
    "names[0:3]"
   ]
  },
  {
   "cell_type": "code",
   "execution_count": null,
   "metadata": {},
   "outputs": [],
   "source": [
    "text = 'He said this: \"Hello!\"'\n",
    "text"
   ]
  },
  {
   "cell_type": "markdown",
   "metadata": {},
   "source": [
    "## Dictionaries\n",
    "\n",
    "- Fast access\n",
    "- Key:value pairs\n",
    "- Specified by curly braces"
   ]
  },
  {
   "cell_type": "code",
   "execution_count": null,
   "metadata": {},
   "outputs": [],
   "source": [
    "dictNums = {'zero':0,'one':1, 'two':2}\n",
    "print(dictNums ['zero'])"
   ]
  },
  {
   "cell_type": "code",
   "execution_count": null,
   "metadata": {},
   "outputs": [],
   "source": [
    "dictNums ['zero'] = 99\n",
    "print(dictNums)"
   ]
  },
  {
   "cell_type": "code",
   "execution_count": null,
   "metadata": {},
   "outputs": [],
   "source": [
    "dictNums.keys()"
   ]
  },
  {
   "cell_type": "code",
   "execution_count": null,
   "metadata": {},
   "outputs": [],
   "source": [
    "dictNums.values()"
   ]
  },
  {
   "cell_type": "markdown",
   "metadata": {},
   "source": [
    "Tuples as keys are useful when identifying entities requires two values:  Consider, for example, distances between some number of distribution centers and some number of retail stores."
   ]
  },
  {
   "cell_type": "code",
   "execution_count": null,
   "metadata": {},
   "outputs": [],
   "source": [
    "dictNums1 = {(0,0):34, (0,1):45}\n",
    "dictNums1[(0,1)]"
   ]
  },
  {
   "cell_type": "code",
   "execution_count": null,
   "metadata": {
    "collapsed": true
   },
   "outputs": [],
   "source": []
  },
  {
   "cell_type": "code",
   "execution_count": null,
   "metadata": {
    "collapsed": true
   },
   "outputs": [],
   "source": []
  },
  {
   "cell_type": "markdown",
   "metadata": {
    "collapsed": true
   },
   "source": [
    "## Boolean Variables\n",
    "\n",
    "- Boolean variables values are either True or False\n",
    "- The first letter of True and False must be capitalized"
   ]
  },
  {
   "cell_type": "code",
   "execution_count": null,
   "metadata": {},
   "outputs": [],
   "source": [
    "x = True\n",
    "print(type(x))"
   ]
  },
  {
   "cell_type": "code",
   "execution_count": null,
   "metadata": {},
   "outputs": [],
   "source": [
    "not x"
   ]
  },
  {
   "cell_type": "markdown",
   "metadata": {},
   "source": [
    "## Sets\n",
    "\n",
    "- Specified by curly braces, but single element values rhater than key:value pairs\n",
    "- Fast lookup\n",
    "- Set functions: e.g., union, intersection"
   ]
  },
  {
   "cell_type": "code",
   "execution_count": null,
   "metadata": {
    "collapsed": true
   },
   "outputs": [],
   "source": [
    "mySet = {1,2,'a','b'}"
   ]
  },
  {
   "cell_type": "code",
   "execution_count": null,
   "metadata": {},
   "outputs": [],
   "source": [
    "1 in mySet"
   ]
  },
  {
   "cell_type": "code",
   "execution_count": null,
   "metadata": {},
   "outputs": [],
   "source": [
    "x = 'a'\n",
    "x in mySet"
   ]
  },
  {
   "cell_type": "code",
   "execution_count": null,
   "metadata": {},
   "outputs": [],
   "source": [
    "'c' in mySet"
   ]
  },
  {
   "cell_type": "code",
   "execution_count": null,
   "metadata": {},
   "outputs": [],
   "source": [
    "mySet.issuperset({1,2})"
   ]
  },
  {
   "cell_type": "code",
   "execution_count": null,
   "metadata": {},
   "outputs": [],
   "source": [
    "mySet.issubset({1,2,'a','b','m','n'})"
   ]
  },
  {
   "cell_type": "code",
   "execution_count": null,
   "metadata": {},
   "outputs": [],
   "source": [
    "mySet.intersection({0,1,2,3,4,5})"
   ]
  },
  {
   "cell_type": "code",
   "execution_count": null,
   "metadata": {},
   "outputs": [],
   "source": [
    "mySet.remove(2)\n",
    "mySet"
   ]
  },
  {
   "cell_type": "markdown",
   "metadata": {},
   "source": [
    "Your turn!\n",
    "\n",
    "Create two sets:\n",
    "\n",
    "- A sequence of the multiples of 5 from 5 to 1000\n",
    "- A sequence of the multiples of 3 from 3 to 1000\n",
    "\n",
    "Then, find the intersection of those sets."
   ]
  },
  {
   "cell_type": "code",
   "execution_count": null,
   "metadata": {
    "collapsed": true
   },
   "outputs": [],
   "source": [
    "# Write your code to solve this question here\n"
   ]
  },
  {
   "cell_type": "markdown",
   "metadata": {},
   "source": [
    "# Basic Python Statements\n",
    "\n",
    "## Addition, Subtraction, Multiplication, & Division\n",
    "\n",
    "We have already demonstrated addition: substraction is totally analogous.\n",
    "\n",
    "There exists one special type of division, which refers to Version 2 of Python where the result is truncated to an inter if both numerator and denominator are integers.  This form of division usese a double slash: _//_."
   ]
  },
  {
   "cell_type": "code",
   "execution_count": null,
   "metadata": {},
   "outputs": [],
   "source": [
    "w = 2.0\n",
    "x = 2\n",
    "y = 5.0\n",
    "z = 5\n",
    "print('y/w:',y/w)\n",
    "print('y/x:',y/x)\n",
    "print('z/w:',z/w)\n",
    "print('z/x:',z/x)\n",
    "print('z//x:',z//x)"
   ]
  },
  {
   "cell_type": "code",
   "execution_count": null,
   "metadata": {},
   "outputs": [],
   "source": [
    "print('y*w:',y*w)\n",
    "print('y*x:',y*x)\n",
    "print('z*w:',z*w)\n",
    "print('z*x:',z*x)"
   ]
  },
  {
   "cell_type": "markdown",
   "metadata": {},
   "source": [
    "Python has the unusual syntax of multiple variables on the left-hand side of an assignment statement, which can eb very convenient."
   ]
  },
  {
   "cell_type": "code",
   "execution_count": null,
   "metadata": {},
   "outputs": [],
   "source": [
    "x = (4,7)\n",
    "y,z = x\n",
    "print(y)\n",
    "print(z)"
   ]
  },
  {
   "cell_type": "code",
   "execution_count": null,
   "metadata": {},
   "outputs": [],
   "source": [
    "w,y,z = x"
   ]
  },
  {
   "cell_type": "markdown",
   "metadata": {},
   "source": [
    "## Boolean Operations & Statements\n",
    "\n",
    "- Boolean logic\n",
    "    - Operations on True and False values\n",
    "    - Results are either True of False\n",
    "- Operators\n",
    "    - ==, <, >, <=, >=, and, or, ^, not, in, !=\n",
    "    - Most operators are obvious: the ^ (hat) symbol is for exclusive or\n",
    "        - False ^ False = False\n",
    "        - True ^ False = True\n",
    "        - False ^ True = True\n",
    "        - True ^ True = False"
   ]
  },
  {
   "cell_type": "code",
   "execution_count": null,
   "metadata": {},
   "outputs": [],
   "source": [
    "3 < 4"
   ]
  },
  {
   "cell_type": "code",
   "execution_count": null,
   "metadata": {},
   "outputs": [],
   "source": [
    "3 > 4"
   ]
  },
  {
   "cell_type": "code",
   "execution_count": null,
   "metadata": {},
   "outputs": [],
   "source": [
    "(3 == 3) ^ (3 != 3)"
   ]
  },
  {
   "cell_type": "markdown",
   "metadata": {
    "collapsed": true
   },
   "source": [
    "Write a Boolean expression to  investigate whether teh value of the variable _x_ is both greter than 3 and less then 10"
   ]
  },
  {
   "cell_type": "code",
   "execution_count": null,
   "metadata": {
    "collapsed": true
   },
   "outputs": [],
   "source": [
    "x = 5\n",
    "# Put your expression on the next line:\n"
   ]
  },
  {
   "cell_type": "markdown",
   "metadata": {},
   "source": [
    "# Critical Built-in Functions\n",
    "\n",
    "We have seen many of these already.  Here is a reference web page:\n",
    "\n",
    "- [Python 3 Built-in Functions](https://docs.python.org/3/library/functions.html)\n",
    "\n",
    "![Python Reference](BuiltInFunctions.jpg)"
   ]
  },
  {
   "cell_type": "code",
   "execution_count": null,
   "metadata": {},
   "outputs": [],
   "source": [
    "print(myList)\n",
    "len(myList)"
   ]
  },
  {
   "cell_type": "code",
   "execution_count": null,
   "metadata": {},
   "outputs": [],
   "source": [
    "range(7)"
   ]
  },
  {
   "cell_type": "code",
   "execution_count": null,
   "metadata": {
    "collapsed": true
   },
   "outputs": [],
   "source": [
    "len(myDiction)"
   ]
  },
  {
   "cell_type": "code",
   "execution_count": null,
   "metadata": {
    "collapsed": true
   },
   "outputs": [],
   "source": [
    "type('g')"
   ]
  },
  {
   "cell_type": "code",
   "execution_count": null,
   "metadata": {},
   "outputs": [],
   "source": [
    "abs(-7)"
   ]
  },
  {
   "cell_type": "code",
   "execution_count": null,
   "metadata": {},
   "outputs": [],
   "source": [
    "x = 9\n",
    "isinstance(x,int)"
   ]
  },
  {
   "cell_type": "code",
   "execution_count": null,
   "metadata": {},
   "outputs": [],
   "source": [
    "y = 'text'\n",
    "isinstance(y,int)"
   ]
  },
  {
   "cell_type": "markdown",
   "metadata": {},
   "source": [
    "### Data Type Conversions\n",
    "\n",
    "- Converting data and variables form one type to another"
   ]
  },
  {
   "cell_type": "code",
   "execution_count": null,
   "metadata": {
    "collapsed": true
   },
   "outputs": [],
   "source": [
    "int()"
   ]
  },
  {
   "cell_type": "code",
   "execution_count": null,
   "metadata": {
    "collapsed": true
   },
   "outputs": [],
   "source": [
    "float()"
   ]
  },
  {
   "cell_type": "code",
   "execution_count": null,
   "metadata": {
    "collapsed": true
   },
   "outputs": [],
   "source": [
    "str()"
   ]
  },
  {
   "cell_type": "code",
   "execution_count": null,
   "metadata": {},
   "outputs": [],
   "source": [
    "bool(0) # 0 is converted to False; any other value is interpreted as True"
   ]
  },
  {
   "cell_type": "code",
   "execution_count": null,
   "metadata": {},
   "outputs": [],
   "source": [
    "bool(1)"
   ]
  },
  {
   "cell_type": "code",
   "execution_count": null,
   "metadata": {},
   "outputs": [],
   "source": [
    "x = (4,5)\n",
    "x = list(x)\n",
    "x"
   ]
  },
  {
   "cell_type": "code",
   "execution_count": null,
   "metadata": {},
   "outputs": [],
   "source": [
    "x = tuple(x)\n",
    "x"
   ]
  },
  {
   "cell_type": "markdown",
   "metadata": {},
   "source": [
    "## If-Elif-Else Statements\n",
    "\n",
    "These blocks of statements permit us to execute different statements depending on the circumstances."
   ]
  },
  {
   "cell_type": "code",
   "execution_count": null,
   "metadata": {},
   "outputs": [],
   "source": [
    "answer = '7'\n",
    "userInput = input('What is 4 + 3? ')\n",
    "if answer == userInput:\n",
    "    print('You are correct: 4 + 3 = 7!  Good job!')\n",
    "else:\n",
    "    print('I am sorry: ',userInput,' is incorrect.')"
   ]
  },
  {
   "cell_type": "code",
   "execution_count": null,
   "metadata": {},
   "outputs": [],
   "source": [
    "answer = '7'\n",
    "userInput = input('What is 4 + 3? ')\n",
    "if answer == userInput:\n",
    "    print('You are correct: 4 + 3 = 7!  Good job!')\n",
    "elif userInput == '-1':\n",
    "    print('Incorrect. Please note that this is an addition problem rather than a subtraction problem.')\n",
    "else:\n",
    "    print('I am sorry: ',userInput,' is incorrect.')"
   ]
  },
  {
   "cell_type": "markdown",
   "metadata": {
    "collapsed": true
   },
   "source": [
    "Your turn!  Write an if-else statement to check whether an integer is odd or even, and print out an appropriate message."
   ]
  },
  {
   "cell_type": "code",
   "execution_count": null,
   "metadata": {
    "collapsed": true
   },
   "outputs": [],
   "source": [
    "# Write the code for your answer here."
   ]
  },
  {
   "cell_type": "code",
   "execution_count": null,
   "metadata": {
    "collapsed": true
   },
   "outputs": [],
   "source": []
  },
  {
   "cell_type": "markdown",
   "metadata": {},
   "source": [
    "## Try-Except Code Blocks\n",
    "\n",
    "If some statement won't work in some foreseen circumstances and you don't want your code to stop, you can use the Try-Except method.  For example, if you try to change the value associated with a dictionary key that does not exist, then you will get an error.  You can avoid your program crshing using Try-Except."
   ]
  },
  {
   "cell_type": "code",
   "execution_count": null,
   "metadata": {
    "collapsed": true
   },
   "outputs": [],
   "source": [
    "dictResponses = {'A': 3, 'B': 5, 'C':3}"
   ]
  },
  {
   "cell_type": "code",
   "execution_count": null,
   "metadata": {},
   "outputs": [],
   "source": [
    "dictResponses['D'] += 1"
   ]
  },
  {
   "cell_type": "code",
   "execution_count": null,
   "metadata": {},
   "outputs": [],
   "source": [
    "try:\n",
    "    dictResponses['D'] += 1\n",
    "except:\n",
    "    dictResponses['D'] = 1\n",
    "    \n",
    "dictResponses"
   ]
  },
  {
   "cell_type": "markdown",
   "metadata": {},
   "source": [
    "## For Loops\n",
    "\n",
    "- Loops make it easy to execute many thousands or millions of lines very quickly\n",
    "- For loops are for iterating through an 'iterable' for a known number of times\n",
    "- These are iterables:\n",
    "    - lists\n",
    "    - ranges\n",
    "    - tuples\n",
    "    - dictionaries\n",
    "    - sets\n",
    "    - generators\n",
    "- Multiple ways to iterate through iterables"
   ]
  },
  {
   "cell_type": "code",
   "execution_count": null,
   "metadata": {},
   "outputs": [],
   "source": [
    "myList = list(range(5,26,5))\n",
    "print(myList)\n",
    "for ele in myList:\n",
    "    print(ele)"
   ]
  },
  {
   "cell_type": "code",
   "execution_count": null,
   "metadata": {},
   "outputs": [],
   "source": [
    "for i in range(len(myList)):\n",
    "    print(myList[i])"
   ]
  },
  {
   "cell_type": "code",
   "execution_count": null,
   "metadata": {},
   "outputs": [],
   "source": [
    "for i in range(len(myList)):\n",
    "    myList[i] = 99\n",
    "myList"
   ]
  },
  {
   "cell_type": "code",
   "execution_count": null,
   "metadata": {},
   "outputs": [],
   "source": [
    "myList = list(range(5,26,5))\n",
    "for ele in myList:\n",
    "    ele = 99\n",
    "myList"
   ]
  },
  {
   "cell_type": "markdown",
   "metadata": {},
   "source": [
    "When you want to loop through a list to change values, you need to use the approach from two cells above."
   ]
  },
  {
   "cell_type": "markdown",
   "metadata": {},
   "source": [
    "You can iterate through sets and tuples."
   ]
  },
  {
   "cell_type": "code",
   "execution_count": null,
   "metadata": {},
   "outputs": [],
   "source": [
    "x = {1,2,3,4,5,6,7,8,9,10,11,12}\n",
    "print(type(x))\n",
    "for t in x:\n",
    "    print(t)"
   ]
  },
  {
   "cell_type": "markdown",
   "metadata": {
    "collapsed": true
   },
   "source": [
    "You can iterate through dictionaries, but it requires a slightly different technique using the keys."
   ]
  },
  {
   "cell_type": "code",
   "execution_count": null,
   "metadata": {},
   "outputs": [],
   "source": [
    "for thisKey in myDiction:\n",
    "    print(thisKey)\n",
    "    #print(thisKey,':',myDiction[thisKey])"
   ]
  },
  {
   "cell_type": "code",
   "execution_count": null,
   "metadata": {},
   "outputs": [],
   "source": [
    "myDiction = {'zero':0,'one':1, 'two':2}\n",
    "\n",
    "keyList = list(myDiction.keys())\n",
    "keyList.sort()\n",
    "for thisKey in keyList:\n",
    "    print(thisKey,':',myDiction[thisKey])"
   ]
  },
  {
   "cell_type": "code",
   "execution_count": null,
   "metadata": {},
   "outputs": [],
   "source": [
    "for key,value in myDiction.items():\n",
    "    print(key,':', value)"
   ]
  },
  {
   "cell_type": "markdown",
   "metadata": {
    "collapsed": true
   },
   "source": [
    "Your turn!  Loop through this dictionary and change the value for every even key to 'even' and every odd key to 'add'"
   ]
  },
  {
   "cell_type": "code",
   "execution_count": null,
   "metadata": {
    "collapsed": true
   },
   "outputs": [],
   "source": [
    "randsInt = {1: 'N/A',5: 'N/A',7: 'N/A',15: 'N/A',20: 'N/A',24: 'N/A',27: 'N/A',30: 'N/A',31: 'N/A',32: 'N/A',35: 'N/A',\\\n",
    "            38: 'N/A',44: 'N/A',55: 'N/A',83: 'N/A',87: 'N/A',89: 'N/A',93: 'N/A',98: 'N/A',101: 'N/A',104: 'N/A',109: 'N/A'}\n",
    "\n",
    "# Write the code for your solution here\n"
   ]
  },
  {
   "cell_type": "markdown",
   "metadata": {},
   "source": [
    "## While Loops"
   ]
  },
  {
   "cell_type": "markdown",
   "metadata": {},
   "source": [
    "- Looping when the number of iterations through the loops are unknown\n",
    "- Requires a Boolean expression in the While statement to determine when to exit the loop\n",
    "    - Looping continues if Boolean expresion is True\n",
    "    - Looping ceases if Boolean expression in False \n",
    "\n",
    "Loop through the list variable _randNums_ until the sum of the values first exceed 5.  Print out the sum and the number of values that were added to obtain that total."
   ]
  },
  {
   "cell_type": "code",
   "execution_count": null,
   "metadata": {
    "collapsed": true
   },
   "outputs": [],
   "source": [
    "randNums = [0.524,0.707,0.738,0.443,0.743,0.131,0.846,0.697,0.632,0.508,0.284,0.455,0.242,0.312,\\\n",
    "            0.088,0.113,0.824,0.74,0.892,0.425]"
   ]
  },
  {
   "cell_type": "code",
   "execution_count": null,
   "metadata": {},
   "outputs": [],
   "source": [
    "total = 0\n",
    "numValues = 0\n",
    "while total <= 5:\n",
    "    total += randNums[numValues]\n",
    "    numValues +=1\n",
    "print(numValues, 'terms were summed in order to obtain a total of',total)"
   ]
  },
  {
   "cell_type": "markdown",
   "metadata": {},
   "source": [
    "Your turn!  Total the terms in the list below up util, and including the 3rd term with a value of 1."
   ]
  },
  {
   "cell_type": "code",
   "execution_count": null,
   "metadata": {
    "collapsed": true
   },
   "outputs": [],
   "source": [
    "thisList = [0.70310152942486,0.7626823486541491,0.8105911024952027,0.7464129769247373,0.8274023468410625,1,0.7526060661489516,\\\n",
    "            0.5247335942256149, 0.712589630730197,0.5664629799743341,1,1,1,0.5550803933264359,0.974270251579191,1,\\\n",
    "            0.7502549111789825,1,0.9206881529420825,1, 0.38334148064397167,0.7421471413395535,0.3646384646728834,\\\n",
    "            0.9989013644395451,0.6900416369125028]\n",
    "# Write the code for your solution here\n"
   ]
  },
  {
   "cell_type": "markdown",
   "metadata": {},
   "source": [
    "## File I/O\n",
    "\n",
    "The _open(filepath,mode)_ function is used to access text files from your hard drive.  The _mode_ indicates whether the file will be read ('r'), written ('w'), appended to ('a').  Other modes are available also.\n",
    "\n",
    "Always close a file after you are finished with it.  When you are writing a file, it will not be created until you use the .close() function on the filestream.\n",
    "\n",
    "In the code below, think of _f_ as a connector to the file, and the _.readlines()_ command accesses the file data one line at a time.  Other modes of reading are appropriate in other circumstances such as _f.read()_, which creates one large string value whereas _f.readlines()_ creates a list with an element for every line of code."
   ]
  },
  {
   "cell_type": "code",
   "execution_count": null,
   "metadata": {},
   "outputs": [],
   "source": [
    "f = open('words.csv','r')\n",
    "words = f.readlines()\n",
    "f.close()\n",
    "print(len(words), type(words))\n",
    "words"
   ]
  },
  {
   "cell_type": "markdown",
   "metadata": {
    "collapsed": true
   },
   "source": [
    "## Python Packages\n",
    "\n",
    "Python packages are code that other people have written that we can use by doing the following:\n",
    "\n",
    "- Installing the package into our Python development environment (do this once)\n",
    "- Importing the package code into our programs (do this in every program using a particular package)\n",
    "\n",
    "These packages are among the most frequently used Python packages and will be the ones most beneficial to you to learn first:\n",
    "\n",
    "- matplotlib (graphing)\n",
    "- numpy (numerical computations)\n",
    "- pandas (data manipulation)"
   ]
  },
  {
   "cell_type": "code",
   "execution_count": null,
   "metadata": {
    "collapsed": true
   },
   "outputs": [],
   "source": [
    "import numpy as np\n",
    "import pandas as pd\n",
    "import matplotlib.pyplot as plt\n",
    "%matplotlib inline"
   ]
  },
  {
   "cell_type": "markdown",
   "metadata": {
    "collapsed": true
   },
   "source": [
    "# Applications\n",
    "\n",
    "## Frequency Histograms\n",
    "\n",
    "Computing frequency histogram data with a dictionary.\n",
    "\n",
    "Frequency histograms are a common, basic, and important tool for becoming familiar with data. Here are some typical applications:\n",
    "\n",
    "- Computing the number of occurrences of each type of defect for a manufactured product.\n",
    "- Computing the number of customers who were active buyers for 1 month, 2 months, ...\n",
    "- Understanding survey or test results\n",
    "\n",
    "Consider the data below in the variable _response_, which are the individual responses to this question:\n",
    "\n",
    "_The following weights (in ounces) were observed in a sample of bagged snacks purchased in a grocery store:_\n",
    "\n",
    "_4.9, 5.1, 4.7, 5.0, 5.1_\n",
    "\n",
    "_What is the standard deviation of this sample?_\n",
    "\n",
    "_A. 0_\n",
    "\n",
    "_B. 0.1497_\n",
    "\n",
    "_C. 0.1673_\n",
    "\n",
    "_D. 4.96_"
   ]
  },
  {
   "cell_type": "code",
   "execution_count": null,
   "metadata": {
    "collapsed": true
   },
   "outputs": [],
   "source": [
    "responses = ['B','A','B','C','D','C','C','C','C','C','C','C','C','B','C','C','C','B','B','C','A','C',\\\n",
    "            'C','A','C','A','D','B','C','C','C','C','B','A','C','C','C','C','A','C','B','B','C','B',\\\n",
    "            'C','C','B','B','A','A','A','C','C','B','D','C','B','B','B','C','A','C','C','C','B','C',\\\n",
    "            'C','D','C','C','C','C','C','A','C','D','D','C','C','A','A','C','C','C','D','C','C','C',\\\n",
    "            'C','A','D','C','B','D','C','B','B','B','C','C']"
   ]
  },
  {
   "cell_type": "code",
   "execution_count": null,
   "metadata": {},
   "outputs": [],
   "source": [
    "hist = {}\n",
    "for response in responses:\n",
    "    try:\n",
    "        hist[response] += 1\n",
    "    except:\n",
    "        hist[response] = 1\n",
    "print(hist)"
   ]
  },
  {
   "cell_type": "code",
   "execution_count": null,
   "metadata": {},
   "outputs": [],
   "source": [
    "data = []\n",
    "for key in hist.keys():\n",
    "    data.append((key,hist[key]))\n",
    "data.sort()\n",
    "x = []\n",
    "y = []\n",
    "for ele in data:\n",
    "    x.append(ele[0])\n",
    "    y.append(ele[1])\n",
    "\n",
    "fig,ax = plt.subplots()\n",
    "ax.bar(x,y)\n",
    "ax.xaxis.set_label_text('Response')\n",
    "ax.yaxis.set_label_text('Number of Occurrences')\n",
    "ax.spines['top'].set_visible(False)\n",
    "ax.spines['right'].set_visible(False)"
   ]
  },
  {
   "cell_type": "code",
   "execution_count": null,
   "metadata": {
    "collapsed": true
   },
   "outputs": [],
   "source": [
    "import pandas as pd\n",
    "dfResponses = pd.DataFrame()  # Create empty pandas DataFrame\n",
    "dfResponses['response'] = responses"
   ]
  },
  {
   "cell_type": "code",
   "execution_count": null,
   "metadata": {
    "scrolled": true
   },
   "outputs": [],
   "source": [
    "dfResponses"
   ]
  },
  {
   "cell_type": "code",
   "execution_count": null,
   "metadata": {},
   "outputs": [],
   "source": [
    "dfResponses['response'].value_counts()"
   ]
  },
  {
   "cell_type": "code",
   "execution_count": null,
   "metadata": {},
   "outputs": [],
   "source": [
    "type(dfResponses['response'].value_counts())"
   ]
  },
  {
   "cell_type": "code",
   "execution_count": null,
   "metadata": {},
   "outputs": [],
   "source": [
    "dfResponses['response'].value_counts().sort_index()"
   ]
  },
  {
   "cell_type": "markdown",
   "metadata": {},
   "source": [
    "## Natural Language Processing (NLP) & Trump's Tweets"
   ]
  },
  {
   "cell_type": "code",
   "execution_count": null,
   "metadata": {},
   "outputs": [],
   "source": [
    "\"\"\" We have already seen this code \"\"\"\n",
    "f = open('words.csv','r')\n",
    "words = f.readlines()\n",
    "f.close()\n",
    "\n",
    "\"\"\" Get rid of the newline escape sequences \"\"\"\n",
    "for i in range(len(words)):\n",
    "    words[i] = words[i].rstrip()\n",
    "words"
   ]
  },
  {
   "cell_type": "code",
   "execution_count": null,
   "metadata": {},
   "outputs": [],
   "source": [
    "\"\"\" Remove common 'stopwords' \"\"\"\n",
    "stopWords = ['to', 'the', 'a', 'to', 'is', 'and', 'in', 'of', 'that', 'it', 'be','at', 'this', 'are', 'be', 'for', 'will', 'with', 'at', 'have','on','&amp', 'by']\n",
    "\n",
    "for i in range(len(words)-1,-1,-1):\n",
    "    if words[i] in stopWords or words[i] == '@realdonaldtrump':\n",
    "        del words[i]\n",
    "        \n",
    "print(len(words))"
   ]
  },
  {
   "cell_type": "code",
   "execution_count": null,
   "metadata": {},
   "outputs": [],
   "source": [
    "dfWords = pd.DataFrame()\n",
    "dfWords['words'] = words\n",
    "dfWords"
   ]
  },
  {
   "cell_type": "code",
   "execution_count": null,
   "metadata": {},
   "outputs": [],
   "source": [
    "histTrump = dfWords['words'].value_counts()\n",
    "histTrump"
   ]
  },
  {
   "cell_type": "code",
   "execution_count": null,
   "metadata": {},
   "outputs": [],
   "source": [
    "numPts = 10\n",
    "fig,ax = plt.subplots()\n",
    "ax.bar(histTrump.index[0:numPts],histTrump.values[0:numPts])\n",
    "ax.spines['right'].set_visible(False)\n",
    "ax.spines['top'].set_visible(False)\n",
    "ax.set_xlabel('Word')\n",
    "ax.set_ylabel('Number of Occurrences')\n",
    "fig.suptitle(\"Analysis of Words in President Trump's Tweets\")"
   ]
  },
  {
   "cell_type": "markdown",
   "metadata": {},
   "source": [
    "## Webscraping\n",
    "\n",
    "This example scrapes HTML data, but data formatted in XML and JSON can be scraped as well.\n",
    "\n",
    "[John Wall NBA Stats](https://www.basketball-reference.com/players/w/walljo01/gamelog-advanced/2017/)\n",
    "\n",
    "![John Wall Image](JohnWall.jpg)"
   ]
  },
  {
   "cell_type": "code",
   "execution_count": null,
   "metadata": {},
   "outputs": [],
   "source": [
    "#import re        # Regular Expressions (Regex) package\n",
    "import requests  # Internet information requests\n",
    "from bs4 import BeautifulSoup  # Parsing HTML\n",
    "\n",
    "html_path = 'https://www.basketball-reference.com/players/w/walljo01/gamelog-advanced/2017/'\n",
    "html_doc = requests.get(html_path).content\n",
    "\n",
    "\"\"\" parse html \"\"\"\n",
    "parsed_html = BeautifulSoup(html_doc, 'lxml')\n",
    "\"\"\" get target row(s) \"\"\"\n",
    "target_rows = parsed_html.find_all('tr', attrs={'id' : 'pgl_advanced.424'})  # will find one row of data\n",
    "#target_rows = parsed_html.find_all('tr', attrs={'id' : re.compile('^pgl_advanced.')})  # uses Regex.  Will find all rows of data\n",
    "\n",
    "print('Number of games found:',len(target_rows))\n",
    "print('Stats are in data type:',type(target_rows),'\\n')\n",
    "all_games = []\n",
    "for row in target_rows:\n",
    "    new_row = []\n",
    "    for x in row.find_all('td'):\n",
    "        new_row.append(x.text)    #x.text.encode(\"ascii\",'ignore')\n",
    "        \n",
    "    all_games.append(new_row)\n",
    "    \n",
    "print('\\nHere\\'s the Data')\n",
    "print(all_games)"
   ]
  },
  {
   "cell_type": "markdown",
   "metadata": {
    "collapsed": true
   },
   "source": [
    "## The pandas Package and Basic Machine Learning\n",
    "\n",
    "![Iris Species](AllIrisSpecies.jpg)"
   ]
  },
  {
   "cell_type": "code",
   "execution_count": null,
   "metadata": {},
   "outputs": [],
   "source": [
    "def predict(row,b1,b2):\n",
    "    if row['PetalLengthIn'] <= b1:\n",
    "        return 'Iris-setosa'\n",
    "    elif row['PetalLengthIn'] <= b2:\n",
    "        return 'Iris-versicolor'\n",
    "    else:\n",
    "        return 'Iris-virginica'\n",
    "\n",
    "    def evalPredict(row):\n",
    "    if row['Predict'] == row['Species']:\n",
    "        return 1\n",
    "    else:\n",
    "        return 0\n",
    "    \n",
    "import matplotlib.pyplot as plt\n",
    "import pandas as pd\n",
    "\n",
    "\"\"\" Input data \"\"\"\n",
    "df = pd.read_csv('Iris.csv')\n",
    " \n",
    "\"\"\" Convert Dimensions to Inches \"\"\"\n",
    "InPerCm = 2.54   # Conversion factor for inches to centimeters\n",
    "df['PetalLengthIn'] = df['PetalLengthCm'] / InPerCm\n",
    "df['SepalLengthIn'] = df['SepalLengthCm'] / InPerCm\n",
    "\n",
    "\"\"\" Analytics: Set support vectors \"\"\"\n",
    "\"\"\"\n",
    "setosa_versi = 1.0\n",
    "versi_virginica = 1.9\n",
    "df['Predict'] = 'N/A'\n",
    "df['Predict'] = df.apply(predict,args=(setosa_versi,versi_virginica),axis=1)\n",
    "df['correct'] = 0\n",
    "df['correct'] = df.apply(evalPredict,axis=1)\n",
    "print('Prediction Accuracy: ',sum(df['correct']/len(df['correct']))) \n",
    "\"\"\"\n",
    "        \n",
    "\"\"\" Create variables for accessing the Figure and Axes sub-objects \"\"\"\n",
    "fig,ax = plt.subplots()\n",
    "\n",
    "\"\"\" Axes sub-object properties and methods \"\"\"\n",
    "color = ['r','b','g']\n",
    "species = ['Iris-setosa','Iris-versicolor','Iris-virginica']\n",
    "for i in range(len(species)):\n",
    "    ax.scatter(df.loc[df['Species'] == species[i]]['SepalLengthIn'],df.loc[df['Species'] == species[i]]['PetalLengthIn'],c=color[i],label=species[i], alpha=0.5,s=75)\n",
    "ax.yaxis.set_label_text('Petal Length (in)', fontsize = 16)\n",
    "ax.xaxis.set_label_text('Sepal Length (in)', fontsize = 16)\n",
    "ax.xaxis.set_tick_params(labelsize=14)\n",
    "ax.yaxis.set_tick_params(labelsize=14)\n",
    "ax.legend()\n",
    "#ax.axhline(setosa_versi)\n",
    "#ax.axhline(versi_virginica)\n",
    "\n",
    "\"\"\" Figure sub-object properties and methods \"\"\"\n",
    "fig.suptitle('Sepal Length versus Petal Length', fontsize = 20)\n",
    "fig.set_size_inches(10,7)\n",
    "fig.savefig('sepLenPetLen.jpg')\n",
    "\n",
    "\"\"\" Display graph \"\"\"\n",
    "plt.show()"
   ]
  },
  {
   "cell_type": "code",
   "execution_count": null,
   "metadata": {},
   "outputs": [],
   "source": [
    "df"
   ]
  },
  {
   "cell_type": "code",
   "execution_count": null,
   "metadata": {
    "collapsed": true
   },
   "outputs": [],
   "source": []
  }
 ],
 "metadata": {
  "kernelspec": {
   "display_name": "Python 3",
   "language": "python",
   "name": "python3"
  },
  "language_info": {
   "codemirror_mode": {
    "name": "ipython",
    "version": 3
   },
   "file_extension": ".py",
   "mimetype": "text/x-python",
   "name": "python",
   "nbconvert_exporter": "python",
   "pygments_lexer": "ipython3",
   "version": "3.6.3"
  }
 },
 "nbformat": 4,
 "nbformat_minor": 2
}
